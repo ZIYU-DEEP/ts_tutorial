{
 "cells": [
  {
   "cell_type": "code",
   "execution_count": 148,
   "id": "b85f4c9f",
   "metadata": {
    "ExecuteTime": {
     "end_time": "2023-10-08T15:25:10.641411Z",
     "start_time": "2023-10-08T15:25:09.626739Z"
    }
   },
   "outputs": [],
   "source": [
    "import numpy as np\n",
    "import pandas as pd\n",
    "import seaborn as sea\n",
    "import matplotlib.pyplot as plt\n",
    "\n",
    "%config InlineBackend.figure_format = 'retina'"
   ]
  },
  {
   "cell_type": "code",
   "execution_count": 143,
   "id": "b65f459d",
   "metadata": {
    "ExecuteTime": {
     "end_time": "2023-10-08T15:24:22.550106Z",
     "start_time": "2023-10-08T15:24:22.544333Z"
    }
   },
   "outputs": [],
   "source": [
    "# ######################\n",
    "# Set up Base Classes \n",
    "# ######################\n",
    "# ======================\n",
    "# Agent\n",
    "# ======================\n",
    "def random_argmax(vector):\n",
    "    \"\"\"Helper function to select argmax at random, not just first one.\"\"\"\n",
    "    index = np.random.choice(np.where(vector == vector.max())[0])\n",
    "    return index\n",
    "\n",
    "class Agent(object):\n",
    "    \"\"\"Base class for all bandit agents.\"\"\"\n",
    "    def __init__(self):\n",
    "        pass\n",
    "\n",
    "    def update_observation(self, observation, action, reward):\n",
    "        \"\"\"Add an observation to the records.\"\"\"\n",
    "        pass\n",
    "\n",
    "    def pick_action(self, observation):\n",
    "        \"\"\"Select an action based upon the policy + observation.\"\"\"\n",
    "        pass\n",
    "\n",
    "# ======================\n",
    "# Environment\n",
    "# ======================\n",
    "class Environment(object):\n",
    "    \"\"\"\n",
    "    Base class for all bandit environments.\n",
    "    \"\"\"\n",
    "\n",
    "    def __init__(self):\n",
    "        \"\"\"Initialize the environment.\"\"\"\n",
    "        pass\n",
    "\n",
    "    def get_observation(self):\n",
    "        \"\"\"Returns an observation from the environment.\"\"\"\n",
    "        pass\n",
    "\n",
    "    def get_optimal_reward(self):\n",
    "        \"\"\"Returns the optimal possible reward for the environment at that point.\"\"\"\n",
    "        pass\n",
    "\n",
    "    def get_expected_reward(self, action):\n",
    "        \"\"\"Gets the expected reward of an action.\"\"\"\n",
    "        pass\n",
    "\n",
    "    def get_stochastic_reward(self, action):\n",
    "        \"\"\"Gets a stochastic reward for the action.\"\"\"\n",
    "        pass\n",
    "\n",
    "    def advance(self, action, reward):\n",
    "        \"\"\"Updating the environment (useful for nonstationary bandit).\"\"\"\n",
    "        pass\n"
   ]
  },
  {
   "cell_type": "code",
   "execution_count": 144,
   "id": "ec178439",
   "metadata": {
    "ExecuteTime": {
     "end_time": "2023-10-08T15:24:22.822171Z",
     "start_time": "2023-10-08T15:24:22.810468Z"
    }
   },
   "outputs": [],
   "source": [
    "# ############################################\n",
    "# Set up TS for Linear Gaussian Bandits\n",
    "# ############################################\n",
    "# ======================\n",
    "# Environment\n",
    "# ======================    \n",
    "class LinearBanditEnvironment(Environment):\n",
    "    def __init__(self, theta_star, sigma, n_arms, seed):\n",
    "        self.theta_star = theta_star\n",
    "        self.sigma = sigma\n",
    "        self.seed = seed\n",
    "        \n",
    "        # Initializing the arms\n",
    "        np.random.seed(self.seed)\n",
    "        self.arms = [np.concatenate(([1], np.zeros(d-1)))]  # Optimal arm\n",
    "        \n",
    "        for _ in range(n_arms - 1):  # Suboptimal arms\n",
    "            arm = np.random.randn(d)\n",
    "            arm[1:] /= np.linalg.norm(arm[1:]) / 2  # Ensuring L2 norm is 2\n",
    "            arm[0] = 0 # Setting the first component to 0\n",
    "            self.arms.append(arm)\n",
    "        \n",
    "    def get_observation(self):\n",
    "        return {'arms': self.arms}\n",
    "    \n",
    "    def get_optimal_reward(self):\n",
    "        a_star = np.concatenate(([1], np.zeros(len(self.theta_star)-1)))\n",
    "        return np.dot(a_star, self.theta_star)\n",
    "    \n",
    "    def get_expected_reward(self, action):\n",
    "        a = self.arms[action]\n",
    "        return np.dot(a, self.theta_star)\n",
    "    \n",
    "    def get_stochastic_reward(self, action):\n",
    "        expected_reward = self.get_expected_reward(action)\n",
    "        return expected_reward + np.random.uniform(-0.5, 0.5)\n",
    "    \n",
    "    def advance(self, action, reward):\n",
    "        pass\n",
    "\n",
    "    \n",
    "# ======================\n",
    "# Experiment\n",
    "# ======================\n",
    "class Experiment(object):\n",
    "    \"\"\"\n",
    "    Simple experiment that logs regret and action taken.\n",
    "    \"\"\"\n",
    "    def __init__(self, agent, environment, n_steps, seed=0, rec_freq=1, unique_id='NULL'):\n",
    "        self.agent = agent\n",
    "        self.environment = environment\n",
    "        self.n_steps = n_steps\n",
    "        self.seed = seed\n",
    "        self.unique_id = unique_id\n",
    "        self.results = []\n",
    "        self.data_dict = {}\n",
    "        self.rec_freq = rec_freq\n",
    "\n",
    "    def run_step(self, t):\n",
    "        \"\"\"\n",
    "        Run the experiment for one step.\n",
    "        \"\"\"\n",
    "        # Get the arms\n",
    "        observation = self.environment.get_observation()\n",
    "        \n",
    "        # Pick the action\n",
    "        action = self.agent.pick_action(observation)\n",
    "        \n",
    "        # Get the rewards\n",
    "        optimal_reward = self.environment.get_optimal_reward()\n",
    "        expected_reward = self.environment.get_expected_reward(action)\n",
    "        reward = self.environment.get_stochastic_reward(action)\n",
    "        \n",
    "        # Update the parameter\n",
    "        self.agent.update_observation(observation, action, reward)\n",
    "        \n",
    "        # Calculate the regret\n",
    "        instant_regret = optimal_reward - expected_reward\n",
    "        self.cum_regret += instant_regret\n",
    "        self.environment.advance(action, reward)\n",
    "        \n",
    "        # Record the results\n",
    "        if not (t + 1) % self.rec_freq:\n",
    "            self.data_dict = {'t': (t + 1),\n",
    "                              'instant_regret': instant_regret,\n",
    "                              'cum_regret': self.cum_regret,\n",
    "                              'action': action,\n",
    "                              'unique_id': self.unique_id}\n",
    "            self.results.append(self.data_dict)\n",
    "\n",
    "    def run_experiment(self):\n",
    "        \"\"\"\n",
    "        Run the experiment for n_steps and collect data.\n",
    "        \"\"\"\n",
    "        np.random.seed(self.seed)\n",
    "        self.cum_regret = 0\n",
    "        self.cum_optimal = 0\n",
    "        \n",
    "        for t in range(self.n_steps):\n",
    "            self.run_step(t)\n",
    "        self.results = pd.DataFrame(self.results)"
   ]
  },
  {
   "cell_type": "code",
   "execution_count": 145,
   "id": "cbf8b078",
   "metadata": {
    "ExecuteTime": {
     "end_time": "2023-10-08T15:24:23.183626Z",
     "start_time": "2023-10-08T15:24:23.174963Z"
    }
   },
   "outputs": [],
   "source": [
    "# ======================\n",
    "# TS Agent\n",
    "# ======================\n",
    "class FGTSAgent(Agent):\n",
    "    def __init__(self, d, m, sigma=1, eta=1, lambd=0.1, b=np.inf):\n",
    "        super(FGTSAgent, self).__init__()\n",
    "        self.d = d\n",
    "        self.sigma = sigma  # noise standard deviation\n",
    "        self.eta = eta\n",
    "        self.lambd = lambd\n",
    "        self.b = b\n",
    "        \n",
    "        # Prior initialization\n",
    "        self.mu = np.zeros(self.d)\n",
    "        self.Sigma_inv = np.eye(self.d) * m  # Inverse of the covariance matrix\n",
    "        \n",
    "        # History of mu values for visualization\n",
    "        self.mu_history = []\n",
    "\n",
    "    def compute_loss(self, a, reward, theta_sample):\n",
    "        \"\"\"\n",
    "        Compute the loss based on the provided exploration term.\n",
    "        \"\"\"\n",
    "        predicted_reward = np.dot(a, theta_sample)\n",
    "        regret_term = (reward - predicted_reward) ** 2\n",
    "        exploration_bonus = min(self.b, predicted_reward)\n",
    "        return self.eta * regret_term - self.lambd * exploration_bonus\n",
    "\n",
    "    def update_observation(self, observation, action, reward):\n",
    "        \"\"\"\n",
    "        Update the parameter estimate based on the observation.\n",
    "        \"\"\"\n",
    "        a = observation['arms'][action]\n",
    "        \n",
    "        # Compute the gradient of the loss with respect to theta\n",
    "        theta_sample = np.random.multivariate_normal(self.mu, np.linalg.inv(self.Sigma_inv))\n",
    "        loss = self.compute_loss(a, reward, theta_sample)\n",
    "        gradient = -2 * self.eta * a * (reward - np.dot(a, theta_sample)) + self.lambd * (a if np.dot(a, theta_sample) < self.b else 0)\n",
    "        \n",
    "        # Closed-form Gaussian update for the covariance\n",
    "        Sigma_new_inv = self.Sigma_inv + (1 / self.sigma**2) * np.outer(a, a)\n",
    "        \n",
    "        # Closed-form Gaussian update for the mean\n",
    "        self.mu = np.linalg.inv(Sigma_new_inv).dot(self.Sigma_inv.dot(self.mu) + (reward / self.sigma**2 - gradient) * a)\n",
    "        \n",
    "        # Update the inverse covariance\n",
    "        self.Sigma_inv = Sigma_new_inv\n",
    "        \n",
    "        # Append the current mu to the history\n",
    "        self.mu_history.append(self.mu.copy())\n",
    "\n",
    "    def pick_action(self, observation):\n",
    "        \"\"\"\n",
    "        Select an action based on the current estimate of theta.\n",
    "        \"\"\"\n",
    "        # Sample theta from the current posterior\n",
    "        theta_sample = np.random.multivariate_normal(self.mu, np.linalg.inv(self.Sigma_inv))\n",
    "        \n",
    "        # Compute the expected rewards for all actions\n",
    "        rewards = [np.dot(a, theta_sample) for a in observation['arms']]\n",
    "        \n",
    "        # Return the action with the highest expected reward\n",
    "        return np.argmax(rewards)"
   ]
  },
  {
   "cell_type": "code",
   "execution_count": 146,
   "id": "38b3e7d8",
   "metadata": {
    "ExecuteTime": {
     "end_time": "2023-10-08T15:24:23.482691Z",
     "start_time": "2023-10-08T15:24:23.479474Z"
    }
   },
   "outputs": [],
   "source": [
    "# ======================\n",
    "# Set up parameters\n",
    "# ======================  \n",
    "d = 100\n",
    "theta_star = np.concatenate(([1, 1], np.zeros(d - 2)))\n",
    "sigma = 1\n",
    "n_arms = 10\n",
    "seed = 0\n",
    "n_steps = 1000"
   ]
  },
  {
   "cell_type": "code",
   "execution_count": 152,
   "id": "b488da65",
   "metadata": {
    "ExecuteTime": {
     "end_time": "2023-10-08T15:27:29.779583Z",
     "start_time": "2023-10-08T15:27:17.901321Z"
    }
   },
   "outputs": [
    {
     "data": {
      "image/png": "[encoded data removed]",
      "text/plain": [
       "<Figure size 600x300 with 1 Axes>"
      ]
     },
     "metadata": {
      "image/png": {
       "height": 277,
       "width": 521
      }
     },
     "output_type": "display_data"
    }
   ],
   "source": [
    "# ======================\n",
    "# Get results\n",
    "# ======================  \n",
    "plt.figure(figsize=(6, 3))\n",
    "for lambd in [0, 0.2, 0.3, 0.4]:\n",
    "    env = LinearBanditEnvironment(theta_star, sigma, n_arms, seed)\n",
    "    fg_ts_agent = FGTSAgent(d, m=100, sigma=1, eta=1, lambd=lambd, b=np.inf)\n",
    "    fg_ts_exp = Experiment(fg_ts_agent, env, n_steps=n_steps)\n",
    "    fg_ts_exp.run_experiment()\n",
    "    results = fg_ts_exp.results\n",
    "    \n",
    "    plt.plot(range(n_steps), results['cum_regret'].values, \n",
    "             label=f'lambda = {lambd}', alpha=0.5)\n",
    "    \n",
    "plt.legend()\n",
    "sea.despine()\n",
    "plt.show()"
   ]
  }
 ],
 "metadata": {
  "kernelspec": {
   "display_name": "game",
   "language": "python",
   "name": "game"
  },
  "language_info": {
   "codemirror_mode": {
    "name": "ipython",
    "version": 3
   },
   "file_extension": ".py",
   "mimetype": "text/x-python",
   "name": "python",
   "nbconvert_exporter": "python",
   "pygments_lexer": "ipython3",
   "version": "3.10.12"
  },
  "varInspector": {
   "cols": {
    "lenName": 16,
    "lenType": 16,
    "lenVar": 40
   },
   "kernels_config": {
    "python": {
     "delete_cmd_postfix": "",
     "delete_cmd_prefix": "del ",
     "library": "var_list.py",
     "varRefreshCmd": "print(var_dic_list())"
    },
    "r": {
     "delete_cmd_postfix": ") ",
     "delete_cmd_prefix": "rm(",
     "library": "var_list.r",
     "varRefreshCmd": "cat(var_dic_list()) "
    }
   },
   "types_to_exclude": [
    "module",
    "function",
    "builtin_function_or_method",
    "instance",
    "_Feature"
   ],
   "window_display": false
  }
 },
 "nbformat": 4,
 "nbformat_minor": 5
}
